{
  "nbformat": 4,
  "nbformat_minor": 0,
  "metadata": {
    "colab": {
      "provenance": []
    },
    "kernelspec": {
      "name": "python3",
      "display_name": "Python 3"
    },
    "language_info": {
      "name": "python"
    }
  },
  "cells": [
    {
      "cell_type": "markdown",
      "source": [
        "**Python Basic Assignment**"
      ],
      "metadata": {
        "id": "K5garqLtfqin"
      }
    },
    {
      "cell_type": "markdown",
      "source": [
        "Q.1 What is Python,and why is it popular?\n",
        "ANS:- Python is a general-purpose programming language and Python is an\n",
        "      interpreted, object-oriented, high-level programming language with dynamic semantics.\n",
        "Python is a popular programming language for many reasons, including:\n",
        "   1. Ease of use\n",
        "   2. Versatility\n",
        "   3. Community\n",
        "   4. Libraries\n",
        "   5. Integration\n",
        "   6. Speed\n",
        "   7. Free\n",
        "\n",
        "Q.2 What is an interpreter in Python?\n",
        "ANS:- A Python interpreter is a program that reads and executes Python code  \n",
        "      line by line. A python interpreter is a computer program that converts each high-level program statement into machine code.\n",
        "\n",
        "Q.3 What are pre-defined keywords in python?\n",
        "ANS:- Predefined keywords in Python are reserved words that have specific       meanings and uses that cannot be changed. like Lambda,Def,Else,Assert,Yield,Break.\n",
        "\n",
        "Q4. Can keywords be used as variable names?\n",
        "ANS:- No, keywords cannot be used as variable names because they define the\n",
        "      syntax and structure of a programming language.\n",
        "\n",
        "Q5. What is mutability in python?\n",
        "ANS:-  mutability refers to the ability to change an object's value or state\n",
        "       after it has been created.\n",
        "\n",
        "Q6. Why are lists mutable, but tuple are immutable?\n",
        "ANS:- lists are mutable because you can change the order of items in a list or\n",
        "      reassign an item in a list. And Tuples are immutable objects or tuples have a fixed length and lists have a dynamic length.\n",
        "\n",
        "Q7. What is the difference between \"==\" and \"is\" operators in python?\n",
        "ANS:- The main difference between the == and is operators in Python is that ==\n",
        "      compares the equality of objects, while is compares the identity of objects.\n",
        "\n",
        "      \"==\"\n",
        "      The equality operator compares the values of two objects to see if they are equal. If the values are equal, the condition is true.\n",
        "\n",
        "      \"is\"\n",
        "      The identity operator compares whether two variables point to the same object in memory. If the variables point to the same object, the condition is true. If not, the condition is false.\n",
        "\n",
        "Q8. What are logical operators in python?\n",
        "ANS:- Logical operators in Python are symbols or words that combine multiple\n",
        "      conditions into a single boolean expression. Like\n",
        "      1. and: Returns True if both conditions are true, and False if either\n",
        "         condition is false.\n",
        "      2. or: A logical operator in Python.\n",
        "      3. not: A unary operator that returns the opposite boolean value of a\n",
        "         single operand.\n",
        "\n",
        "Q.9 What is type casting in python?\n",
        "ANS:- Type casting in Python is the process of changing a variable's data type\n",
        "      from one to another.\n",
        "\n",
        "Q.10 What is the difference between implicit and explicit type casting?\n",
        "ANS:-  (Implicit)\n",
        "      This is when conversions are automatically interpreted. For example, when adding an integer to a float, Python will automatically convert the integer to a float.\n",
        "      (Explicit)\n",
        "      This is when a programmer uses predefined functions to convert an object's data type to the desired data type. For example, the float(), int(), and str() functions can be used for explicit type conversion.\n",
        "\n",
        "Q.11 What is the popular of conditional statements in python?\n",
        "ANS:- The most common conditional statements in Python are if, elif, and else.\n",
        "      These statements allow a program to react differently based on whether a condition is true or false.\n",
        "      1. If statement\n",
        "      2. If-else statement\n",
        "      3. Elif statement\n",
        "      4. Nested if statement\n",
        "\n",
        "Q.12 How does the elif statement work?\n",
        "ANS:-  elif is short for \"else if\" and is used when the first if statement  \n",
        "       isn't true, but you want to check for another condition. Meaning, if statements pair up with elif and else statements to perform a series of checks.\n",
        "\n",
        "Q.13 What is the difference between for and while loops?\n",
        "ANS:- The main difference between a for loop and a while loop is that a for\n",
        "      loop is used when the number of iterations is known in advance, while  \n",
        "      a while loop is used when the number of iterations is unknown.\n",
        "\n",
        "      (For loop)\n",
        "      A for loop is used to repeat a block of code a specific number of times. It's best used when the number of iterations is known ahead of time. For example, a for loop can be used to print out all the elements of a vector.\n",
        "      \n",
        "      (While loop.)\n",
        "      A while loop is used to repeat a block of code an unknown number of times, until a condition is met. It's best used when the number of iterations is unknown ahead of time. For example, a while loop can be used to ask a user for a number between 1 and 10.\n",
        "  \n",
        "Q14. Describe a scenario where a while loop is more suitable than a for loop.\n",
        "ANS:- In contrast to a 'for' loop, which is generally used when the number of\n",
        "      iterations is known beforehand, a 'while' loop is ideal for situations where the number of iterations is not predetermined and depends on some dynamic condition.\n"
      ],
      "metadata": {
        "id": "OI7l8WvVfxev"
      }
    },
    {
      "cell_type": "markdown",
      "source": [
        "**Practical Questions**"
      ],
      "metadata": {
        "id": "G5CypfXwzzWE"
      }
    },
    {
      "cell_type": "code",
      "source": [
        "# Q.1 Write a python program to print \"Hello, World!\"\n",
        "\n",
        "print(\"Hello, World!\")"
      ],
      "metadata": {
        "colab": {
          "base_uri": "https://localhost:8080/"
        },
        "id": "zcDcOzR-sifU",
        "outputId": "e601c5f9-ffb6-48b3-b059-67ef53b4de31"
      },
      "execution_count": null,
      "outputs": [
        {
          "output_type": "stream",
          "name": "stdout",
          "text": [
            "Hello, World!\n"
          ]
        }
      ]
    },
    {
      "cell_type": "code",
      "source": [
        "# Q.2 Write a python program that displays your name and age.\n",
        "\n",
        "print(\"Your Name: Pappu\")\n",
        "print(\"Your Age: 24\")"
      ],
      "metadata": {
        "colab": {
          "base_uri": "https://localhost:8080/"
        },
        "id": "gGIKfEzitDuo",
        "outputId": "03497706-6119-4393-dba3-2cdfd422f6b4"
      },
      "execution_count": null,
      "outputs": [
        {
          "output_type": "stream",
          "name": "stdout",
          "text": [
            "Your Name: Pappu\n",
            "Your Age: 24\n"
          ]
        }
      ]
    },
    {
      "cell_type": "code",
      "source": [
        "# Q.3 Write a program to print all pre-defined Keywords in Python Using the keyword library.\n",
        "\n",
        "import keyword\n",
        "print(keyword.kwlist)\n"
      ],
      "metadata": {
        "colab": {
          "base_uri": "https://localhost:8080/"
        },
        "id": "QjdFnjzgtn-U",
        "outputId": "00ae2f47-807e-4049-cf2b-767d91e6b074"
      },
      "execution_count": null,
      "outputs": [
        {
          "output_type": "stream",
          "name": "stdout",
          "text": [
            "['False', 'None', 'True', 'and', 'as', 'assert', 'async', 'await', 'break', 'class', 'continue', 'def', 'del', 'elif', 'else', 'except', 'finally', 'for', 'from', 'global', 'if', 'import', 'in', 'is', 'lambda', 'nonlocal', 'not', 'or', 'pass', 'raise', 'return', 'try', 'while', 'with', 'yield']\n"
          ]
        }
      ]
    },
    {
      "cell_type": "code",
      "source": [
        "# Q.4 Write a program that checks if a given word is a python keyword.\n",
        "\n",
        "import keyword\n",
        "k = input(\"Enter The checks if a given word is a python keyword = \")\n",
        "if keyword.iskeyword(k):\n",
        "  print(\"Youe Entered word is keyword in python\")\n",
        "else:\n",
        "  print(\"Youe Entered word is not a  keyword in python \")"
      ],
      "metadata": {
        "colab": {
          "base_uri": "https://localhost:8080/"
        },
        "id": "w0khR4vNzoaO",
        "outputId": "a64ccc0e-0c3b-4784-9430-410207a0e3cc"
      },
      "execution_count": null,
      "outputs": [
        {
          "output_type": "stream",
          "name": "stdout",
          "text": [
            "Enter The checks if a given word is a python keyword = pappu\n",
            "Youe Entered word is not a  keyword in python \n"
          ]
        }
      ]
    },
    {
      "cell_type": "code",
      "source": [
        "# Q.5 Creat a list and tuple in python and demonstrate how attempting to change an element works differently for each.\n",
        "\n",
        "mylist = [\"Newyear\", \"Pappu\", 3.5, 10]\n",
        "print(\"List = \",mylist)\n",
        "\n",
        "mytuple = tuple(mylist)\n",
        "print(\"Tuple = \",mytuple)"
      ],
      "metadata": {
        "id": "dlrKud7rz_oR",
        "colab": {
          "base_uri": "https://localhost:8080/"
        },
        "outputId": "b3e9fd14-445e-464d-d37d-36e27aa9b98a"
      },
      "execution_count": null,
      "outputs": [
        {
          "output_type": "stream",
          "name": "stdout",
          "text": [
            "List =  ['Newyear', 'Pappu', 3.5, 10]\n",
            "Tuple =  ('Newyear', 'Pappu', 3.5, 10)\n"
          ]
        }
      ]
    },
    {
      "cell_type": "code",
      "source": [
        "#Q.6 Write a function to demonstrate the behavior of mutable and immutable arguments.\n",
        "\n",
        "def mutable_args(m,im):\n",
        "  m.append(\"New Item\")\n",
        "  im[\"New\"]=100\n",
        "m=[1,2,3,4,5]\n",
        "im={1:\"one\", 2:\"Two\"}\n",
        "print(\"Print Before passing to function: \",m)\n",
        "print(\"Dictionary before passing to function: \",im)\n",
        "mutable_args(m,im)\n",
        "print(\"List After passing to function: \",m)\n",
        "print(\"Dictionary after passing to function: \",im)\n"
      ],
      "metadata": {
        "id": "95rsc-ToDnKk",
        "colab": {
          "base_uri": "https://localhost:8080/"
        },
        "outputId": "bb10260c-2e65-4775-e010-b231ddbe0e18"
      },
      "execution_count": null,
      "outputs": [
        {
          "output_type": "stream",
          "name": "stdout",
          "text": [
            "Print Before passing to function:  [1, 2, 3, 4, 5]\n",
            "Dictionary before passing to function:  {1: 'one', 2: 'Two'}\n",
            "List After passing to function:  [1, 2, 3, 4, 5, 'New Item']\n",
            "Dictionary after passing to function:  {1: 'one', 2: 'Two', 'New': 100}\n"
          ]
        }
      ]
    },
    {
      "cell_type": "code",
      "source": [
        "# Q.7  Write a function to demonstrate the behavior of mutable and immutable arguments.\n",
        "\n",
        "def mutable_args(m,im):\n",
        "  m.append(\"Apple\")\n",
        "  im[\"New\"]=101\n",
        "m=[1,2,3,4,5]\n",
        "im={1:\"one\", 2:\"Two\"}\n",
        "print(\"Print Before passing to function: \",m)\n",
        "print(\"Dictionary before passing to function: \",im)\n",
        "mutable_args(m,im)\n",
        "print(\"List After passing to function: \",m)\n",
        "print(\"Dictionary after passing to function: \",im)\n"
      ],
      "metadata": {
        "colab": {
          "base_uri": "https://localhost:8080/"
        },
        "id": "uBrx_7IDJRnW",
        "outputId": "b12d9632-7a00-48dc-bc3d-53bb299ec444"
      },
      "execution_count": null,
      "outputs": [
        {
          "output_type": "stream",
          "name": "stdout",
          "text": [
            "Print Before passing to function:  [1, 2, 3, 4, 5]\n",
            "Dictionary before passing to function:  {1: 'one', 2: 'Two'}\n",
            "List After passing to function:  [1, 2, 3, 4, 5, 'Apple']\n",
            "Dictionary after passing to function:  {1: 'one', 2: 'Two', 'New': 101}\n"
          ]
        }
      ]
    },
    {
      "cell_type": "code",
      "source": [
        "# Q.8 Write a program to demonstrate the use of logical operator.\n",
        "\n",
        "a = 10\n",
        "b = 15\n",
        "print(a>9) and (b>=15)\n"
      ],
      "metadata": {
        "colab": {
          "base_uri": "https://localhost:8080/"
        },
        "id": "5W2VtAO8J3de",
        "outputId": "a802de0f-7582-4460-d47a-98bd5d77f6af"
      },
      "execution_count": null,
      "outputs": [
        {
          "output_type": "stream",
          "name": "stdout",
          "text": [
            "True\n"
          ]
        }
      ]
    },
    {
      "cell_type": "code",
      "source": [
        "# Q.9 write a python program to convert user input from string to integer ,float,and boolean types.\n",
        "\n",
        "a = input(\"Enter Any String: \")\n",
        "print((\"That Is Integer Value:\"),int(a))\n",
        "s = input(\"Enter Any String: \")\n",
        "print((\"That is float Value\"),float(s))\n",
        "S = input(\"Enter Any String: \")\n",
        "print((\"That is Boolean Value:\"),bool(S))\n"
      ],
      "metadata": {
        "colab": {
          "base_uri": "https://localhost:8080/"
        },
        "id": "2rB3yqxRLQrG",
        "outputId": "5f6131ed-12ff-43d1-ec7f-bc8f6446bae5"
      },
      "execution_count": null,
      "outputs": [
        {
          "output_type": "stream",
          "name": "stdout",
          "text": [
            "Enter Any String: 123\n",
            "That Is Integer Value: 123\n",
            "Enter Any String: 45\n",
            "That is float Value 45.0\n",
            "Enter Any String: 78\n",
            "That is Boolean Value: True\n"
          ]
        }
      ]
    },
    {
      "cell_type": "code",
      "source": [
        "# Q.10 Write code to demonstrate type casting with list elements.\n",
        "\n",
        "mylist = [1, 2, 3, 4, 5]\n",
        "print((\"list element= \"),str(mylist))\n"
      ],
      "metadata": {
        "colab": {
          "base_uri": "https://localhost:8080/"
        },
        "id": "4dFbMVgeQbAh",
        "outputId": "6dab8a55-9d82-4914-acae-dba447df5651"
      },
      "execution_count": 5,
      "outputs": [
        {
          "output_type": "stream",
          "name": "stdout",
          "text": [
            "list element=  [1, 2, 3, 4, 5]\n"
          ]
        }
      ]
    },
    {
      "cell_type": "code",
      "source": [
        "# Q.11 Write a program that checks if a number is positive, negative, or zero.\n",
        "\n",
        "num = 0\n",
        "if num > 0:\n",
        "  print(\"It is a positive Number\")\n",
        "elif num == 0:\n",
        "  print(\"It is Zero\")\n",
        "else:\n",
        "  print(\"It is a negative Number\")"
      ],
      "metadata": {
        "id": "7o9bruMbXSnR",
        "colab": {
          "base_uri": "https://localhost:8080/"
        },
        "outputId": "35566d58-f660-4b7b-894b-72a930d18e6b"
      },
      "execution_count": null,
      "outputs": [
        {
          "output_type": "stream",
          "name": "stdout",
          "text": [
            "It is Zero\n"
          ]
        }
      ]
    },
    {
      "cell_type": "code",
      "source": [
        "# Q.12 write a for loop to print numbers from 1 to 10.\n",
        "\n",
        "for i in range(1 , 11):\n",
        "  print(i)"
      ],
      "metadata": {
        "colab": {
          "base_uri": "https://localhost:8080/"
        },
        "id": "BwRcOludOUBk",
        "outputId": "1a6cb0c9-d565-4287-f09c-7014a25f52e5"
      },
      "execution_count": null,
      "outputs": [
        {
          "output_type": "stream",
          "name": "stdout",
          "text": [
            "1\n",
            "2\n",
            "3\n",
            "4\n",
            "5\n",
            "6\n",
            "7\n",
            "8\n",
            "9\n",
            "10\n"
          ]
        }
      ]
    },
    {
      "cell_type": "code",
      "source": [
        "# Q.13 Write a python program to find the sum of all even numbers between 1 and 50.\n",
        "\n",
        "num = 50\n",
        "i = 2\n",
        "sum=0\n",
        "while(i<=num):\n",
        "  if(i%2==0):\n",
        "    sum=sum+i\n",
        "  i=i+2\n",
        "  print(\"Sum of all even Numbers= \",sum)"
      ],
      "metadata": {
        "colab": {
          "base_uri": "https://localhost:8080/"
        },
        "id": "136_rYxmO1sA",
        "outputId": "ef8447ae-4581-4324-ed8e-d1010eecc133"
      },
      "execution_count": null,
      "outputs": [
        {
          "output_type": "stream",
          "name": "stdout",
          "text": [
            "Sum of all even Numbers=  2\n",
            "Sum of all even Numbers=  6\n",
            "Sum of all even Numbers=  12\n",
            "Sum of all even Numbers=  20\n",
            "Sum of all even Numbers=  30\n",
            "Sum of all even Numbers=  42\n",
            "Sum of all even Numbers=  56\n",
            "Sum of all even Numbers=  72\n",
            "Sum of all even Numbers=  90\n",
            "Sum of all even Numbers=  110\n",
            "Sum of all even Numbers=  132\n",
            "Sum of all even Numbers=  156\n",
            "Sum of all even Numbers=  182\n",
            "Sum of all even Numbers=  210\n",
            "Sum of all even Numbers=  240\n",
            "Sum of all even Numbers=  272\n",
            "Sum of all even Numbers=  306\n",
            "Sum of all even Numbers=  342\n",
            "Sum of all even Numbers=  380\n",
            "Sum of all even Numbers=  420\n",
            "Sum of all even Numbers=  462\n",
            "Sum of all even Numbers=  506\n",
            "Sum of all even Numbers=  552\n",
            "Sum of all even Numbers=  600\n",
            "Sum of all even Numbers=  650\n"
          ]
        }
      ]
    },
    {
      "cell_type": "code",
      "source": [
        "# Q.14 Write a program to reverse a string using a while loop.\n",
        "\n",
        "str = \"Python\"\n",
        "print(str[::-1])"
      ],
      "metadata": {
        "colab": {
          "base_uri": "https://localhost:8080/"
        },
        "id": "RvxLLdncQr_G",
        "outputId": "c86723d4-74e7-431f-facd-168c7050dadd"
      },
      "execution_count": null,
      "outputs": [
        {
          "output_type": "stream",
          "name": "stdout",
          "text": [
            "nohtyP\n"
          ]
        }
      ]
    },
    {
      "cell_type": "code",
      "source": [
        "# Q.15 Write a python program to calculate the factorial of a number provide by the user using a while loop.\n",
        "\n",
        "num = int(input(\"Enter a Number: \"))\n",
        "fac=1\n",
        "i=1\n",
        "while i<=num:\n",
        "  fac=fac*i\n",
        "  i=i+1\n",
        "  print(\"Factorial is : \",fac)\n"
      ],
      "metadata": {
        "colab": {
          "base_uri": "https://localhost:8080/"
        },
        "id": "wU47YNSATZ4b",
        "outputId": "7b2371a0-8515-421b-ec83-f15509aab209"
      },
      "execution_count": null,
      "outputs": [
        {
          "output_type": "stream",
          "name": "stdout",
          "text": [
            "Enter a Number: 4\n",
            "Factorial is :  1\n",
            "Factorial is :  2\n",
            "Factorial is :  6\n",
            "Factorial is :  24\n"
          ]
        }
      ]
    },
    {
      "cell_type": "code",
      "source": [],
      "metadata": {
        "id": "GjrwtiqmUfxy"
      },
      "execution_count": null,
      "outputs": []
    }
  ]
}